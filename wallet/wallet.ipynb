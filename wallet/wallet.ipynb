{
 "cells": [
  {
   "cell_type": "code",
   "execution_count": 1,
   "metadata": {},
   "outputs": [
    {
     "data": {
      "text/plain": [
       "True"
      ]
     },
     "execution_count": 1,
     "metadata": {},
     "output_type": "execute_result"
    }
   ],
   "source": [
    "# importing libraries\n",
    "from constants import *\n",
    "import os\n",
    "from dotenv import load_dotenv\n",
    "import subprocess\n",
    "import json\n",
    "from eth_account import Account\n",
    "from bit import PrivateKeyTestnet\n",
    "from web3 import Web3\n",
    "from web3.middleware import geth_poa_middleware\n",
    "from bit.network import NetworkAPI\n",
    "\n",
    "load_dotenv(dotenv_path=\"keys.env\")"
   ]
  },
  {
   "cell_type": "code",
   "execution_count": 2,
   "metadata": {},
   "outputs": [
    {
     "name": "stdout",
     "output_type": "stream",
     "text": [
      "order arrange soup change add security mouse emerge else erase puzzle stick\n"
     ]
    }
   ],
   "source": [
    "# calling mnemonic environment variable\n",
    "mnemonic = os.getenv('MNEMONIC')\n",
    "print(mnemonic)"
   ]
  },
  {
   "cell_type": "code",
   "execution_count": 3,
   "metadata": {},
   "outputs": [],
   "source": [
    "# function to derive wallets\n",
    "def derive_wallets (mnemonic, coin, number):\n",
    "    \n",
    "    command = f'php hd-wallet-derive/hd-wallet-derive.php -g --mnemonic=\"{mnemonic}\" --coin={coin} --numderive={number} --cols=path,address,privkey,pubkey --format=json'\n",
    "    print(command)\n",
    "    process = subprocess.Popen(command, stdout=subprocess.PIPE, shell=True)\n",
    "    (output, err) = process.communicate()\n",
    "    print (output,err)\n",
    "    process_status = process.wait()\n",
    "    keys = json.loads(output)\n",
    "    \n",
    "    \n",
    "    return keys"
   ]
  },
  {
   "cell_type": "code",
   "execution_count": 4,
   "metadata": {},
   "outputs": [
    {
     "data": {
      "text/plain": [
       "'eth'"
      ]
     },
     "execution_count": 4,
     "metadata": {},
     "output_type": "execute_result"
    }
   ],
   "source": [
    "ETH"
   ]
  },
  {
   "cell_type": "code",
   "execution_count": 5,
   "metadata": {},
   "outputs": [],
   "source": [
    "# function to call derive_wallets function for BTCTEST and ETH currencies and output a dictionary\n",
    "# with derived information for three accounts per coin\n",
    "# def coins ():\n",
    "\n",
    "def coins ():\n",
    "\n",
    "    coin_dict = {\n",
    "        'btc-test' : derive_wallets(mnemonic, BTCTEST, 3),\n",
    "        'eth' : derive_wallets(mnemonic, ETH, 3)\n",
    "    }\n",
    "    \n",
    "    return coin_dict"
   ]
  },
  {
   "cell_type": "code",
   "execution_count": 6,
   "metadata": {},
   "outputs": [
    {
     "name": "stdout",
     "output_type": "stream",
     "text": [
      "php hd-wallet-derive/hd-wallet-derive.php -g --mnemonic=\"order arrange soup change add security mouse emerge else erase puzzle stick\" --coin=btc-test --numderive=3 --cols=path,address,privkey,pubkey --format=json\n",
      "b'\\n[{\"path\":\"m\\\\/44\\'\\\\/1\\'\\\\/0\\'\\\\/0\\\\/0\",\"address\":\"mnfpEGveo21NPedFK29fyzpdiXfF4NvvaL\",\"privkey\":\"cVRPTr53dcLumeQcMNoe4SudsEyzpdJz13VriAm46rJYnd7TsBES\",\"pubkey\":\"03a27e0b354184c5586e0e5996a3ea6a2a48465647af61f8a99f5445f8d1d39f81\"},{\"path\":\"m\\\\/44\\'\\\\/1\\'\\\\/0\\'\\\\/0\\\\/1\",\"address\":\"mth9mLcbq9dcELQkBVk4bR2mxVdSkksjsF\",\"privkey\":\"cTcAYSAR9J6NPEMbNq6d49NJN8mUMG4aRWwmXoboE72Bimr5sgjY\",\"pubkey\":\"024977dfbde2ab44d7f51e8fe6b37fab246096bb2a83c8e597eaa6515e9a28bd54\"},{\"path\":\"m\\\\/44\\'\\\\/1\\'\\\\/0\\'\\\\/0\\\\/2\",\"address\":\"mopbBkCgqB9itj6fAYPH2EFtFiz5w8WSYt\",\"privkey\":\"cUK3RqVomPjw3moTs6UzPbke8V6iJ9wXLso5RKFXXtaLzArdNUpT\",\"pubkey\":\"0390eeb852e45a64e7e725fc06f9b05ffa8d63b476553eadc016a95a98c1df22c4\"}]' None\n",
      "php hd-wallet-derive/hd-wallet-derive.php -g --mnemonic=\"order arrange soup change add security mouse emerge else erase puzzle stick\" --coin=eth --numderive=3 --cols=path,address,privkey,pubkey --format=json\n",
      "b'\\n[{\"path\":\"m\\\\/44\\'\\\\/60\\'\\\\/0\\'\\\\/0\\\\/0\",\"address\":\"0xA3D317fE5f2c8ce2c20571F8fC4dCCF9A8f32eDE\",\"privkey\":\"0xfbca46b9fd5e0951f4aa0b551c669355f0fa377416620bddb1f2ed332a055011\",\"pubkey\":\"026b1acded79eef9478a729af05f796f18bd1404f09128b5b8aaae34cb32da472a\"},{\"path\":\"m\\\\/44\\'\\\\/60\\'\\\\/0\\'\\\\/0\\\\/1\",\"address\":\"0x4364bcb7fD1228089869191920aCa858638C0756\",\"privkey\":\"0x305ef82823a8818f12bb0805d56577f062695ac4e16295a2d55185dc79ef4bf4\",\"pubkey\":\"02f112f75946f76654703d9aa26b759013430995e26fe4bf8fce33f13509ab3b66\"},{\"path\":\"m\\\\/44\\'\\\\/60\\'\\\\/0\\'\\\\/0\\\\/2\",\"address\":\"0xA7c9eE75d1d04589E9BDD76c93910896e96d1c5E\",\"privkey\":\"0x23f9825fb345d99dce11bf723bfa495127660a3cfb056c86ae7aaa5e15ddf443\",\"pubkey\":\"03eba5a29d36dc643f2195348096fde2260bd51afbfc5e4b0b7941829f683b553a\"}]' None\n"
     ]
    },
    {
     "data": {
      "text/plain": [
       "{'btc-test': [{'path': \"m/44'/1'/0'/0/0\",\n",
       "   'address': 'mnfpEGveo21NPedFK29fyzpdiXfF4NvvaL',\n",
       "   'privkey': 'cVRPTr53dcLumeQcMNoe4SudsEyzpdJz13VriAm46rJYnd7TsBES',\n",
       "   'pubkey': '03a27e0b354184c5586e0e5996a3ea6a2a48465647af61f8a99f5445f8d1d39f81'},\n",
       "  {'path': \"m/44'/1'/0'/0/1\",\n",
       "   'address': 'mth9mLcbq9dcELQkBVk4bR2mxVdSkksjsF',\n",
       "   'privkey': 'cTcAYSAR9J6NPEMbNq6d49NJN8mUMG4aRWwmXoboE72Bimr5sgjY',\n",
       "   'pubkey': '024977dfbde2ab44d7f51e8fe6b37fab246096bb2a83c8e597eaa6515e9a28bd54'},\n",
       "  {'path': \"m/44'/1'/0'/0/2\",\n",
       "   'address': 'mopbBkCgqB9itj6fAYPH2EFtFiz5w8WSYt',\n",
       "   'privkey': 'cUK3RqVomPjw3moTs6UzPbke8V6iJ9wXLso5RKFXXtaLzArdNUpT',\n",
       "   'pubkey': '0390eeb852e45a64e7e725fc06f9b05ffa8d63b476553eadc016a95a98c1df22c4'}],\n",
       " 'eth': [{'path': \"m/44'/60'/0'/0/0\",\n",
       "   'address': '0xA3D317fE5f2c8ce2c20571F8fC4dCCF9A8f32eDE',\n",
       "   'privkey': '0xfbca46b9fd5e0951f4aa0b551c669355f0fa377416620bddb1f2ed332a055011',\n",
       "   'pubkey': '026b1acded79eef9478a729af05f796f18bd1404f09128b5b8aaae34cb32da472a'},\n",
       "  {'path': \"m/44'/60'/0'/0/1\",\n",
       "   'address': '0x4364bcb7fD1228089869191920aCa858638C0756',\n",
       "   'privkey': '0x305ef82823a8818f12bb0805d56577f062695ac4e16295a2d55185dc79ef4bf4',\n",
       "   'pubkey': '02f112f75946f76654703d9aa26b759013430995e26fe4bf8fce33f13509ab3b66'},\n",
       "  {'path': \"m/44'/60'/0'/0/2\",\n",
       "   'address': '0xA7c9eE75d1d04589E9BDD76c93910896e96d1c5E',\n",
       "   'privkey': '0x23f9825fb345d99dce11bf723bfa495127660a3cfb056c86ae7aaa5e15ddf443',\n",
       "   'pubkey': '03eba5a29d36dc643f2195348096fde2260bd51afbfc5e4b0b7941829f683b553a'}]}"
      ]
     },
     "execution_count": 6,
     "metadata": {},
     "output_type": "execute_result"
    }
   ],
   "source": [
    "# testing output\n",
    "coins()"
   ]
  },
  {
   "cell_type": "code",
   "execution_count": 9,
   "metadata": {},
   "outputs": [
    {
     "name": "stdout",
     "output_type": "stream",
     "text": [
      "php hd-wallet-derive/hd-wallet-derive.php -g --mnemonic=\"order arrange soup change add security mouse emerge else erase puzzle stick\" --coin=btc-test --numderive=3 --cols=path,address,privkey,pubkey --format=json\n",
      "b'\\n[{\"path\":\"m\\\\/44\\'\\\\/1\\'\\\\/0\\'\\\\/0\\\\/0\",\"address\":\"mnfpEGveo21NPedFK29fyzpdiXfF4NvvaL\",\"privkey\":\"cVRPTr53dcLumeQcMNoe4SudsEyzpdJz13VriAm46rJYnd7TsBES\",\"pubkey\":\"03a27e0b354184c5586e0e5996a3ea6a2a48465647af61f8a99f5445f8d1d39f81\"},{\"path\":\"m\\\\/44\\'\\\\/1\\'\\\\/0\\'\\\\/0\\\\/1\",\"address\":\"mth9mLcbq9dcELQkBVk4bR2mxVdSkksjsF\",\"privkey\":\"cTcAYSAR9J6NPEMbNq6d49NJN8mUMG4aRWwmXoboE72Bimr5sgjY\",\"pubkey\":\"024977dfbde2ab44d7f51e8fe6b37fab246096bb2a83c8e597eaa6515e9a28bd54\"},{\"path\":\"m\\\\/44\\'\\\\/1\\'\\\\/0\\'\\\\/0\\\\/2\",\"address\":\"mopbBkCgqB9itj6fAYPH2EFtFiz5w8WSYt\",\"privkey\":\"cUK3RqVomPjw3moTs6UzPbke8V6iJ9wXLso5RKFXXtaLzArdNUpT\",\"pubkey\":\"0390eeb852e45a64e7e725fc06f9b05ffa8d63b476553eadc016a95a98c1df22c4\"}]' None\n",
      "php hd-wallet-derive/hd-wallet-derive.php -g --mnemonic=\"order arrange soup change add security mouse emerge else erase puzzle stick\" --coin=eth --numderive=3 --cols=path,address,privkey,pubkey --format=json\n",
      "b'\\n[{\"path\":\"m\\\\/44\\'\\\\/60\\'\\\\/0\\'\\\\/0\\\\/0\",\"address\":\"0xA3D317fE5f2c8ce2c20571F8fC4dCCF9A8f32eDE\",\"privkey\":\"0xfbca46b9fd5e0951f4aa0b551c669355f0fa377416620bddb1f2ed332a055011\",\"pubkey\":\"026b1acded79eef9478a729af05f796f18bd1404f09128b5b8aaae34cb32da472a\"},{\"path\":\"m\\\\/44\\'\\\\/60\\'\\\\/0\\'\\\\/0\\\\/1\",\"address\":\"0x4364bcb7fD1228089869191920aCa858638C0756\",\"privkey\":\"0x305ef82823a8818f12bb0805d56577f062695ac4e16295a2d55185dc79ef4bf4\",\"pubkey\":\"02f112f75946f76654703d9aa26b759013430995e26fe4bf8fce33f13509ab3b66\"},{\"path\":\"m\\\\/44\\'\\\\/60\\'\\\\/0\\'\\\\/0\\\\/2\",\"address\":\"0xA7c9eE75d1d04589E9BDD76c93910896e96d1c5E\",\"privkey\":\"0x23f9825fb345d99dce11bf723bfa495127660a3cfb056c86ae7aaa5e15ddf443\",\"pubkey\":\"03eba5a29d36dc643f2195348096fde2260bd51afbfc5e4b0b7941829f683b553a\"}]' None\n"
     ]
    },
    {
     "data": {
      "text/plain": [
       "{'path': \"m/44'/60'/0'/0/0\",\n",
       " 'address': '0xA3D317fE5f2c8ce2c20571F8fC4dCCF9A8f32eDE',\n",
       " 'privkey': '0xfbca46b9fd5e0951f4aa0b551c669355f0fa377416620bddb1f2ed332a055011',\n",
       " 'pubkey': '026b1acded79eef9478a729af05f796f18bd1404f09128b5b8aaae34cb32da472a'}"
      ]
     },
     "execution_count": 9,
     "metadata": {},
     "output_type": "execute_result"
    }
   ],
   "source": [
    "# testing a call of a private key from the dictionary output\n",
    "testVariable = coins()\n",
    "testVariable[ETH][0]"
   ]
  },
  {
   "cell_type": "code",
   "execution_count": 10,
   "metadata": {},
   "outputs": [],
   "source": [
    "# function to convert private key into a readable format for web3 / bit\n",
    "def priv_key_to_account (coin, priv_key):\n",
    "    \n",
    "    if coin == ETH:\n",
    "        return Account.privateKeyToAccount(priv_key)\n",
    "    elif coin == BTCTEST:\n",
    "        return PrivateKeyTestnet(priv_key)"
   ]
  },
  {
   "cell_type": "code",
   "execution_count": 11,
   "metadata": {},
   "outputs": [
    {
     "name": "stdout",
     "output_type": "stream",
     "text": [
      "php hd-wallet-derive/hd-wallet-derive.php -g --mnemonic=\"order arrange soup change add security mouse emerge else erase puzzle stick\" --coin=btc-test --numderive=3 --cols=path,address,privkey,pubkey --format=json\n",
      "b'\\n[{\"path\":\"m\\\\/44\\'\\\\/1\\'\\\\/0\\'\\\\/0\\\\/0\",\"address\":\"mnfpEGveo21NPedFK29fyzpdiXfF4NvvaL\",\"privkey\":\"cVRPTr53dcLumeQcMNoe4SudsEyzpdJz13VriAm46rJYnd7TsBES\",\"pubkey\":\"03a27e0b354184c5586e0e5996a3ea6a2a48465647af61f8a99f5445f8d1d39f81\"},{\"path\":\"m\\\\/44\\'\\\\/1\\'\\\\/0\\'\\\\/0\\\\/1\",\"address\":\"mth9mLcbq9dcELQkBVk4bR2mxVdSkksjsF\",\"privkey\":\"cTcAYSAR9J6NPEMbNq6d49NJN8mUMG4aRWwmXoboE72Bimr5sgjY\",\"pubkey\":\"024977dfbde2ab44d7f51e8fe6b37fab246096bb2a83c8e597eaa6515e9a28bd54\"},{\"path\":\"m\\\\/44\\'\\\\/1\\'\\\\/0\\'\\\\/0\\\\/2\",\"address\":\"mopbBkCgqB9itj6fAYPH2EFtFiz5w8WSYt\",\"privkey\":\"cUK3RqVomPjw3moTs6UzPbke8V6iJ9wXLso5RKFXXtaLzArdNUpT\",\"pubkey\":\"0390eeb852e45a64e7e725fc06f9b05ffa8d63b476553eadc016a95a98c1df22c4\"}]' None\n",
      "php hd-wallet-derive/hd-wallet-derive.php -g --mnemonic=\"order arrange soup change add security mouse emerge else erase puzzle stick\" --coin=eth --numderive=3 --cols=path,address,privkey,pubkey --format=json\n",
      "b'\\n[{\"path\":\"m\\\\/44\\'\\\\/60\\'\\\\/0\\'\\\\/0\\\\/0\",\"address\":\"0xA3D317fE5f2c8ce2c20571F8fC4dCCF9A8f32eDE\",\"privkey\":\"0xfbca46b9fd5e0951f4aa0b551c669355f0fa377416620bddb1f2ed332a055011\",\"pubkey\":\"026b1acded79eef9478a729af05f796f18bd1404f09128b5b8aaae34cb32da472a\"},{\"path\":\"m\\\\/44\\'\\\\/60\\'\\\\/0\\'\\\\/0\\\\/1\",\"address\":\"0x4364bcb7fD1228089869191920aCa858638C0756\",\"privkey\":\"0x305ef82823a8818f12bb0805d56577f062695ac4e16295a2d55185dc79ef4bf4\",\"pubkey\":\"02f112f75946f76654703d9aa26b759013430995e26fe4bf8fce33f13509ab3b66\"},{\"path\":\"m\\\\/44\\'\\\\/60\\'\\\\/0\\'\\\\/0\\\\/2\",\"address\":\"0xA7c9eE75d1d04589E9BDD76c93910896e96d1c5E\",\"privkey\":\"0x23f9825fb345d99dce11bf723bfa495127660a3cfb056c86ae7aaa5e15ddf443\",\"pubkey\":\"03eba5a29d36dc643f2195348096fde2260bd51afbfc5e4b0b7941829f683b553a\"}]' None\n",
      "<eth_account.signers.local.LocalAccount object at 0x0000004C99328DC0>\n"
     ]
    }
   ],
   "source": [
    "# setting sender ETH account\n",
    "eth_account = priv_key_to_account(ETH,coins()[ETH][0]['privkey'])\n",
    "\n",
    "print(eth_account)"
   ]
  },
  {
   "cell_type": "code",
   "execution_count": 12,
   "metadata": {},
   "outputs": [
    {
     "name": "stdout",
     "output_type": "stream",
     "text": [
      "php hd-wallet-derive/hd-wallet-derive.php -g --mnemonic=\"order arrange soup change add security mouse emerge else erase puzzle stick\" --coin=btc-test --numderive=3 --cols=path,address,privkey,pubkey --format=json\n",
      "b'\\n[{\"path\":\"m\\\\/44\\'\\\\/1\\'\\\\/0\\'\\\\/0\\\\/0\",\"address\":\"mnfpEGveo21NPedFK29fyzpdiXfF4NvvaL\",\"privkey\":\"cVRPTr53dcLumeQcMNoe4SudsEyzpdJz13VriAm46rJYnd7TsBES\",\"pubkey\":\"03a27e0b354184c5586e0e5996a3ea6a2a48465647af61f8a99f5445f8d1d39f81\"},{\"path\":\"m\\\\/44\\'\\\\/1\\'\\\\/0\\'\\\\/0\\\\/1\",\"address\":\"mth9mLcbq9dcELQkBVk4bR2mxVdSkksjsF\",\"privkey\":\"cTcAYSAR9J6NPEMbNq6d49NJN8mUMG4aRWwmXoboE72Bimr5sgjY\",\"pubkey\":\"024977dfbde2ab44d7f51e8fe6b37fab246096bb2a83c8e597eaa6515e9a28bd54\"},{\"path\":\"m\\\\/44\\'\\\\/1\\'\\\\/0\\'\\\\/0\\\\/2\",\"address\":\"mopbBkCgqB9itj6fAYPH2EFtFiz5w8WSYt\",\"privkey\":\"cUK3RqVomPjw3moTs6UzPbke8V6iJ9wXLso5RKFXXtaLzArdNUpT\",\"pubkey\":\"0390eeb852e45a64e7e725fc06f9b05ffa8d63b476553eadc016a95a98c1df22c4\"}]' None\n",
      "php hd-wallet-derive/hd-wallet-derive.php -g --mnemonic=\"order arrange soup change add security mouse emerge else erase puzzle stick\" --coin=eth --numderive=3 --cols=path,address,privkey,pubkey --format=json\n",
      "b'\\n[{\"path\":\"m\\\\/44\\'\\\\/60\\'\\\\/0\\'\\\\/0\\\\/0\",\"address\":\"0xA3D317fE5f2c8ce2c20571F8fC4dCCF9A8f32eDE\",\"privkey\":\"0xfbca46b9fd5e0951f4aa0b551c669355f0fa377416620bddb1f2ed332a055011\",\"pubkey\":\"026b1acded79eef9478a729af05f796f18bd1404f09128b5b8aaae34cb32da472a\"},{\"path\":\"m\\\\/44\\'\\\\/60\\'\\\\/0\\'\\\\/0\\\\/1\",\"address\":\"0x4364bcb7fD1228089869191920aCa858638C0756\",\"privkey\":\"0x305ef82823a8818f12bb0805d56577f062695ac4e16295a2d55185dc79ef4bf4\",\"pubkey\":\"02f112f75946f76654703d9aa26b759013430995e26fe4bf8fce33f13509ab3b66\"},{\"path\":\"m\\\\/44\\'\\\\/60\\'\\\\/0\\'\\\\/0\\\\/2\",\"address\":\"0xA7c9eE75d1d04589E9BDD76c93910896e96d1c5E\",\"privkey\":\"0x23f9825fb345d99dce11bf723bfa495127660a3cfb056c86ae7aaa5e15ddf443\",\"pubkey\":\"03eba5a29d36dc643f2195348096fde2260bd51afbfc5e4b0b7941829f683b553a\"}]' None\n",
      "0x4364bcb7fD1228089869191920aCa858638C0756\n"
     ]
    }
   ],
   "source": [
    "# setting a receiver ETH address\n",
    "eth_address = coins()[ETH][1]['address']\n",
    "\n",
    "print(eth_address)"
   ]
  },
  {
   "cell_type": "code",
   "execution_count": 14,
   "metadata": {},
   "outputs": [
    {
     "name": "stdout",
     "output_type": "stream",
     "text": [
      "php hd-wallet-derive/hd-wallet-derive.php -g --mnemonic=\"order arrange soup change add security mouse emerge else erase puzzle stick\" --coin=btc-test --numderive=3 --cols=path,address,privkey,pubkey --format=json\n",
      "b'\\n[{\"path\":\"m\\\\/44\\'\\\\/1\\'\\\\/0\\'\\\\/0\\\\/0\",\"address\":\"mnfpEGveo21NPedFK29fyzpdiXfF4NvvaL\",\"privkey\":\"cVRPTr53dcLumeQcMNoe4SudsEyzpdJz13VriAm46rJYnd7TsBES\",\"pubkey\":\"03a27e0b354184c5586e0e5996a3ea6a2a48465647af61f8a99f5445f8d1d39f81\"},{\"path\":\"m\\\\/44\\'\\\\/1\\'\\\\/0\\'\\\\/0\\\\/1\",\"address\":\"mth9mLcbq9dcELQkBVk4bR2mxVdSkksjsF\",\"privkey\":\"cTcAYSAR9J6NPEMbNq6d49NJN8mUMG4aRWwmXoboE72Bimr5sgjY\",\"pubkey\":\"024977dfbde2ab44d7f51e8fe6b37fab246096bb2a83c8e597eaa6515e9a28bd54\"},{\"path\":\"m\\\\/44\\'\\\\/1\\'\\\\/0\\'\\\\/0\\\\/2\",\"address\":\"mopbBkCgqB9itj6fAYPH2EFtFiz5w8WSYt\",\"privkey\":\"cUK3RqVomPjw3moTs6UzPbke8V6iJ9wXLso5RKFXXtaLzArdNUpT\",\"pubkey\":\"0390eeb852e45a64e7e725fc06f9b05ffa8d63b476553eadc016a95a98c1df22c4\"}]' None\n",
      "php hd-wallet-derive/hd-wallet-derive.php -g --mnemonic=\"order arrange soup change add security mouse emerge else erase puzzle stick\" --coin=eth --numderive=3 --cols=path,address,privkey,pubkey --format=json\n",
      "b'\\n[{\"path\":\"m\\\\/44\\'\\\\/60\\'\\\\/0\\'\\\\/0\\\\/0\",\"address\":\"0xA3D317fE5f2c8ce2c20571F8fC4dCCF9A8f32eDE\",\"privkey\":\"0xfbca46b9fd5e0951f4aa0b551c669355f0fa377416620bddb1f2ed332a055011\",\"pubkey\":\"026b1acded79eef9478a729af05f796f18bd1404f09128b5b8aaae34cb32da472a\"},{\"path\":\"m\\\\/44\\'\\\\/60\\'\\\\/0\\'\\\\/0\\\\/1\",\"address\":\"0x4364bcb7fD1228089869191920aCa858638C0756\",\"privkey\":\"0x305ef82823a8818f12bb0805d56577f062695ac4e16295a2d55185dc79ef4bf4\",\"pubkey\":\"02f112f75946f76654703d9aa26b759013430995e26fe4bf8fce33f13509ab3b66\"},{\"path\":\"m\\\\/44\\'\\\\/60\\'\\\\/0\\'\\\\/0\\\\/2\",\"address\":\"0xA7c9eE75d1d04589E9BDD76c93910896e96d1c5E\",\"privkey\":\"0x23f9825fb345d99dce11bf723bfa495127660a3cfb056c86ae7aaa5e15ddf443\",\"pubkey\":\"03eba5a29d36dc643f2195348096fde2260bd51afbfc5e4b0b7941829f683b553a\"}]' None\n",
      "<PrivateKeyTestnet: mnfpEGveo21NPedFK29fyzpdiXfF4NvvaL>\n"
     ]
    }
   ],
   "source": [
    "# setting sender BTCTEST account\n",
    "btctest_account = priv_key_to_account(BTCTEST,coins()[BTCTEST][0]['privkey'])\n",
    "\n",
    "print(btctest_account)"
   ]
  },
  {
   "cell_type": "code",
   "execution_count": 15,
   "metadata": {},
   "outputs": [
    {
     "name": "stdout",
     "output_type": "stream",
     "text": [
      "php hd-wallet-derive/hd-wallet-derive.php -g --mnemonic=\"order arrange soup change add security mouse emerge else erase puzzle stick\" --coin=btc-test --numderive=3 --cols=path,address,privkey,pubkey --format=json\n",
      "b'\\n[{\"path\":\"m\\\\/44\\'\\\\/1\\'\\\\/0\\'\\\\/0\\\\/0\",\"address\":\"mnfpEGveo21NPedFK29fyzpdiXfF4NvvaL\",\"privkey\":\"cVRPTr53dcLumeQcMNoe4SudsEyzpdJz13VriAm46rJYnd7TsBES\",\"pubkey\":\"03a27e0b354184c5586e0e5996a3ea6a2a48465647af61f8a99f5445f8d1d39f81\"},{\"path\":\"m\\\\/44\\'\\\\/1\\'\\\\/0\\'\\\\/0\\\\/1\",\"address\":\"mth9mLcbq9dcELQkBVk4bR2mxVdSkksjsF\",\"privkey\":\"cTcAYSAR9J6NPEMbNq6d49NJN8mUMG4aRWwmXoboE72Bimr5sgjY\",\"pubkey\":\"024977dfbde2ab44d7f51e8fe6b37fab246096bb2a83c8e597eaa6515e9a28bd54\"},{\"path\":\"m\\\\/44\\'\\\\/1\\'\\\\/0\\'\\\\/0\\\\/2\",\"address\":\"mopbBkCgqB9itj6fAYPH2EFtFiz5w8WSYt\",\"privkey\":\"cUK3RqVomPjw3moTs6UzPbke8V6iJ9wXLso5RKFXXtaLzArdNUpT\",\"pubkey\":\"0390eeb852e45a64e7e725fc06f9b05ffa8d63b476553eadc016a95a98c1df22c4\"}]' None\n",
      "php hd-wallet-derive/hd-wallet-derive.php -g --mnemonic=\"order arrange soup change add security mouse emerge else erase puzzle stick\" --coin=eth --numderive=3 --cols=path,address,privkey,pubkey --format=json\n",
      "b'\\n[{\"path\":\"m\\\\/44\\'\\\\/60\\'\\\\/0\\'\\\\/0\\\\/0\",\"address\":\"0xA3D317fE5f2c8ce2c20571F8fC4dCCF9A8f32eDE\",\"privkey\":\"0xfbca46b9fd5e0951f4aa0b551c669355f0fa377416620bddb1f2ed332a055011\",\"pubkey\":\"026b1acded79eef9478a729af05f796f18bd1404f09128b5b8aaae34cb32da472a\"},{\"path\":\"m\\\\/44\\'\\\\/60\\'\\\\/0\\'\\\\/0\\\\/1\",\"address\":\"0x4364bcb7fD1228089869191920aCa858638C0756\",\"privkey\":\"0x305ef82823a8818f12bb0805d56577f062695ac4e16295a2d55185dc79ef4bf4\",\"pubkey\":\"02f112f75946f76654703d9aa26b759013430995e26fe4bf8fce33f13509ab3b66\"},{\"path\":\"m\\\\/44\\'\\\\/60\\'\\\\/0\\'\\\\/0\\\\/2\",\"address\":\"0xA7c9eE75d1d04589E9BDD76c93910896e96d1c5E\",\"privkey\":\"0x23f9825fb345d99dce11bf723bfa495127660a3cfb056c86ae7aaa5e15ddf443\",\"pubkey\":\"03eba5a29d36dc643f2195348096fde2260bd51afbfc5e4b0b7941829f683b553a\"}]' None\n",
      "mth9mLcbq9dcELQkBVk4bR2mxVdSkksjsF\n"
     ]
    }
   ],
   "source": [
    "# setting a receiver BTCTEST address\n",
    "btctest_address = coins()[BTCTEST][1]['address']\n",
    "\n",
    "print(btctest_address)"
   ]
  },
  {
   "cell_type": "code",
   "execution_count": 20,
   "metadata": {},
   "outputs": [],
   "source": [
    "# setting up Web3 port\n",
    "w3 = Web3(Web3.HTTPProvider(\"http://127.0.0.1:8545\"))"
   ]
  },
  {
   "cell_type": "code",
   "execution_count": 21,
   "metadata": {},
   "outputs": [],
   "source": [
    "# function to create raw, unsigned transaction\n",
    "def create_tx(coin, account, to, amount):\n",
    "    if coin == ETH:\n",
    "        gasEstimate = w3.eth.estimateGas({\n",
    "            \"from\": account.address, \n",
    "            \"to\": to, \n",
    "            \"value\": w3.toWei(amount,'ether') \n",
    "        })\n",
    "        return {\n",
    "            \"from\": account.address,\n",
    "            \"to\": to,\n",
    "            \"value\": w3.toWei(amount,'ether') ,\n",
    "            \"gas\": gasEstimate,\n",
    "            \"gasPrice\": w3.eth.gasPrice,\n",
    "            \"nonce\": w3.eth.getTransactionCount(account.address),\n",
    "            #\"chainID\": w3.net.chainId --this has been deprecated\n",
    "        }\n",
    "    elif coin == BTCTEST:\n",
    "        return PrivateKeyTestnet.prepare_transaction(account.address, [(to, amount, BTC)])"
   ]
  },
  {
   "cell_type": "code",
   "execution_count": 22,
   "metadata": {},
   "outputs": [
    {
     "data": {
      "text/plain": [
       "{'from': '0xA3D317fE5f2c8ce2c20571F8fC4dCCF9A8f32eDE',\n",
       " 'to': '0x4364bcb7fD1228089869191920aCa858638C0756',\n",
       " 'value': 1000000000000000000,\n",
       " 'gas': 21000,\n",
       " 'gasPrice': 20000000000,\n",
       " 'nonce': 1}"
      ]
     },
     "execution_count": 22,
     "metadata": {},
     "output_type": "execute_result"
    }
   ],
   "source": [
    "# testing transaction with ETH\n",
    "create_tx(ETH,eth_account,eth_address,1)"
   ]
  },
  {
   "cell_type": "code",
   "execution_count": 38,
   "metadata": {},
   "outputs": [
    {
     "ename": "InsufficientFunds",
     "evalue": "Balance 31100 is less than 100083436 (including fee).",
     "output_type": "error",
     "traceback": [
      "\u001b[1;31m---------------------------------------------------------------------------\u001b[0m",
      "\u001b[1;31mInsufficientFunds\u001b[0m                         Traceback (most recent call last)",
      "\u001b[1;32m<ipython-input-38-4b66758b4f73>\u001b[0m in \u001b[0;36m<module>\u001b[1;34m\u001b[0m\n\u001b[0;32m      1\u001b[0m \u001b[1;31m# testing transaction with BTC\u001b[0m\u001b[1;33m\u001b[0m\u001b[1;33m\u001b[0m\u001b[1;33m\u001b[0m\u001b[0m\n\u001b[1;32m----> 2\u001b[1;33m \u001b[0mcreate_tx\u001b[0m\u001b[1;33m(\u001b[0m\u001b[0mBTCTEST\u001b[0m\u001b[1;33m,\u001b[0m\u001b[0mbtctest_account\u001b[0m\u001b[1;33m,\u001b[0m\u001b[0mbtctest_address\u001b[0m\u001b[1;33m,\u001b[0m\u001b[1;36m1\u001b[0m\u001b[1;33m)\u001b[0m\u001b[1;33m\u001b[0m\u001b[1;33m\u001b[0m\u001b[0m\n\u001b[0m",
      "\u001b[1;32m<ipython-input-21-f3ea49c871a0>\u001b[0m in \u001b[0;36mcreate_tx\u001b[1;34m(coin, account, to, amount)\u001b[0m\n\u001b[0;32m     17\u001b[0m         }\n\u001b[0;32m     18\u001b[0m     \u001b[1;32melif\u001b[0m \u001b[0mcoin\u001b[0m \u001b[1;33m==\u001b[0m \u001b[0mBTCTEST\u001b[0m\u001b[1;33m:\u001b[0m\u001b[1;33m\u001b[0m\u001b[1;33m\u001b[0m\u001b[0m\n\u001b[1;32m---> 19\u001b[1;33m         \u001b[1;32mreturn\u001b[0m \u001b[0mPrivateKeyTestnet\u001b[0m\u001b[1;33m.\u001b[0m\u001b[0mprepare_transaction\u001b[0m\u001b[1;33m(\u001b[0m\u001b[0maccount\u001b[0m\u001b[1;33m.\u001b[0m\u001b[0maddress\u001b[0m\u001b[1;33m,\u001b[0m \u001b[1;33m[\u001b[0m\u001b[1;33m(\u001b[0m\u001b[0mto\u001b[0m\u001b[1;33m,\u001b[0m \u001b[0mamount\u001b[0m\u001b[1;33m,\u001b[0m \u001b[0mBTC\u001b[0m\u001b[1;33m)\u001b[0m\u001b[1;33m]\u001b[0m\u001b[1;33m)\u001b[0m\u001b[1;33m\u001b[0m\u001b[1;33m\u001b[0m\u001b[0m\n\u001b[0m",
      "\u001b[1;32m~\\anaconda3\\lib\\site-packages\\bit\\wallet.py\u001b[0m in \u001b[0;36mprepare_transaction\u001b[1;34m(cls, address, outputs, compressed, fee, absolute_fee, leftover, combine, message, unspents, message_is_hex, replace_by_fee)\u001b[0m\n\u001b[0;32m    840\u001b[0m         \u001b[1;33m:\u001b[0m\u001b[0mrtype\u001b[0m\u001b[1;33m:\u001b[0m\u001b[0;31m \u001b[0m\u001b[0;31m`\u001b[0m\u001b[0;31m`\u001b[0m\u001b[0mstr\u001b[0m\u001b[0;31m`\u001b[0m\u001b[0;31m`\u001b[0m\u001b[1;33m\u001b[0m\u001b[1;33m\u001b[0m\u001b[0m\n\u001b[0;32m    841\u001b[0m         \"\"\"\n\u001b[1;32m--> 842\u001b[1;33m         unspents, outputs = sanitize_tx_data(\n\u001b[0m\u001b[0;32m    843\u001b[0m             \u001b[0munspents\u001b[0m \u001b[1;32mor\u001b[0m \u001b[0mNetworkAPI\u001b[0m\u001b[1;33m.\u001b[0m\u001b[0mget_unspent_testnet\u001b[0m\u001b[1;33m(\u001b[0m\u001b[0maddress\u001b[0m\u001b[1;33m)\u001b[0m\u001b[1;33m,\u001b[0m\u001b[1;33m\u001b[0m\u001b[1;33m\u001b[0m\u001b[0m\n\u001b[0;32m    844\u001b[0m             \u001b[0moutputs\u001b[0m\u001b[1;33m,\u001b[0m\u001b[1;33m\u001b[0m\u001b[1;33m\u001b[0m\u001b[0m\n",
      "\u001b[1;32m~\\anaconda3\\lib\\site-packages\\bit\\transaction.py\u001b[0m in \u001b[0;36msanitize_tx_data\u001b[1;34m(unspents, outputs, fee, leftover, combine, message, compressed, absolute_fee, min_change, version, message_is_hex, replace_by_fee)\u001b[0m\n\u001b[0;32m    425\u001b[0m \u001b[1;33m\u001b[0m\u001b[0m\n\u001b[0;32m    426\u001b[0m     \u001b[1;31m# Use Branch-and-Bound for coin selection:\u001b[0m\u001b[1;33m\u001b[0m\u001b[1;33m\u001b[0m\u001b[1;33m\u001b[0m\u001b[0m\n\u001b[1;32m--> 427\u001b[1;33m     unspents[:], remaining = select_coins(\n\u001b[0m\u001b[0;32m    428\u001b[0m         \u001b[0msum_outputs\u001b[0m\u001b[1;33m,\u001b[0m\u001b[1;33m\u001b[0m\u001b[1;33m\u001b[0m\u001b[0m\n\u001b[0;32m    429\u001b[0m         \u001b[0mfee\u001b[0m\u001b[1;33m,\u001b[0m\u001b[1;33m\u001b[0m\u001b[1;33m\u001b[0m\u001b[0m\n",
      "\u001b[1;32m~\\anaconda3\\lib\\site-packages\\bit\\transaction.py\u001b[0m in \u001b[0;36mselect_coins\u001b[1;34m(target, fee, output_size, min_change, absolute_fee, consolidate, unspents)\u001b[0m\n\u001b[0;32m    324\u001b[0m                 \u001b[1;32mbreak\u001b[0m\u001b[1;33m\u001b[0m\u001b[1;33m\u001b[0m\u001b[0m\n\u001b[0;32m    325\u001b[0m         \u001b[1;32melse\u001b[0m\u001b[1;33m:\u001b[0m\u001b[1;33m\u001b[0m\u001b[1;33m\u001b[0m\u001b[0m\n\u001b[1;32m--> 326\u001b[1;33m             raise InsufficientFunds(\n\u001b[0m\u001b[0;32m    327\u001b[0m                 \u001b[1;34m'Balance {} is less than {} (including '\u001b[0m\u001b[1;33m\u001b[0m\u001b[1;33m\u001b[0m\u001b[0m\n\u001b[0;32m    328\u001b[0m                 \u001b[1;34m'fee).'\u001b[0m\u001b[1;33m.\u001b[0m\u001b[0mformat\u001b[0m\u001b[1;33m(\u001b[0m\u001b[0msum\u001b[0m\u001b[1;33m(\u001b[0m\u001b[0mu\u001b[0m\u001b[1;33m.\u001b[0m\u001b[0mamount\u001b[0m \u001b[1;32mfor\u001b[0m \u001b[0mu\u001b[0m \u001b[1;32min\u001b[0m \u001b[0mselected_coins\u001b[0m\u001b[1;33m)\u001b[0m\u001b[1;33m,\u001b[0m \u001b[0mtarget\u001b[0m \u001b[1;33m+\u001b[0m \u001b[0mmin_change\u001b[0m \u001b[1;33m+\u001b[0m \u001b[0mestimated_fee\u001b[0m\u001b[1;33m)\u001b[0m\u001b[1;33m\u001b[0m\u001b[1;33m\u001b[0m\u001b[0m\n",
      "\u001b[1;31mInsufficientFunds\u001b[0m: Balance 31100 is less than 100083436 (including fee)."
     ]
    }
   ],
   "source": [
    "# testing transaction with BTC\n",
    "create_tx(BTCTEST,btctest_account,btctest_address,1)"
   ]
  },
  {
   "cell_type": "code",
   "execution_count": 31,
   "metadata": {},
   "outputs": [],
   "source": [
    "# function to create, sign, and send transaction \n",
    "def send_tx(coin, account, recipient, amount):\n",
    "    \n",
    "    raw_tx = create_tx(coin, account, recipient, amount)\n",
    "    signed_tx = account.sign_transaction(raw_tx)\n",
    "    \n",
    "    if coin == ETH:\n",
    "        result = w3.eth.sendRawTransaction(signed_tx.rawTransaction)\n",
    "        return result\n",
    "    elif coin == BTCTEST:\n",
    "        return NetworkAPI.broadcast_tx_testnet(signed_tx)"
   ]
  },
  {
   "cell_type": "code",
   "execution_count": 32,
   "metadata": {},
   "outputs": [
    {
     "data": {
      "text/plain": [
       "HexBytes('0x39ac490a1872cddeec3e4e8f248c97c36a1f6a82db815afb3fc446c4579131eb')"
      ]
     },
     "execution_count": 32,
     "metadata": {},
     "output_type": "execute_result"
    }
   ],
   "source": [
    "# sending ETH transaction\n",
    "send_tx(ETH,eth_account,eth_address,1)"
   ]
  },
  {
   "cell_type": "code",
   "execution_count": 37,
   "metadata": {},
   "outputs": [
    {
     "ename": "InsufficientFunds",
     "evalue": "Balance 31100 is less than 183436 (including fee).",
     "output_type": "error",
     "traceback": [
      "\u001b[1;31m---------------------------------------------------------------------------\u001b[0m",
      "\u001b[1;31mInsufficientFunds\u001b[0m                         Traceback (most recent call last)",
      "\u001b[1;32m<ipython-input-37-244e46842231>\u001b[0m in \u001b[0;36m<module>\u001b[1;34m\u001b[0m\n\u001b[0;32m      1\u001b[0m \u001b[1;31m# sending BTCTEST transaction\u001b[0m\u001b[1;33m\u001b[0m\u001b[1;33m\u001b[0m\u001b[1;33m\u001b[0m\u001b[0m\n\u001b[1;32m----> 2\u001b[1;33m \u001b[0msend_tx\u001b[0m\u001b[1;33m(\u001b[0m\u001b[0mBTCTEST\u001b[0m\u001b[1;33m,\u001b[0m\u001b[0mbtctest_account\u001b[0m\u001b[1;33m,\u001b[0m\u001b[0mbtctest_address\u001b[0m\u001b[1;33m,\u001b[0m\u001b[1;36m0.001\u001b[0m\u001b[1;33m)\u001b[0m\u001b[1;33m\u001b[0m\u001b[1;33m\u001b[0m\u001b[0m\n\u001b[0m",
      "\u001b[1;32m<ipython-input-31-8b8879a84f3c>\u001b[0m in \u001b[0;36msend_tx\u001b[1;34m(coin, account, recipient, amount)\u001b[0m\n\u001b[0;32m      2\u001b[0m \u001b[1;32mdef\u001b[0m \u001b[0msend_tx\u001b[0m\u001b[1;33m(\u001b[0m\u001b[0mcoin\u001b[0m\u001b[1;33m,\u001b[0m \u001b[0maccount\u001b[0m\u001b[1;33m,\u001b[0m \u001b[0mrecipient\u001b[0m\u001b[1;33m,\u001b[0m \u001b[0mamount\u001b[0m\u001b[1;33m)\u001b[0m\u001b[1;33m:\u001b[0m\u001b[1;33m\u001b[0m\u001b[1;33m\u001b[0m\u001b[0m\n\u001b[0;32m      3\u001b[0m \u001b[1;33m\u001b[0m\u001b[0m\n\u001b[1;32m----> 4\u001b[1;33m     \u001b[0mraw_tx\u001b[0m \u001b[1;33m=\u001b[0m \u001b[0mcreate_tx\u001b[0m\u001b[1;33m(\u001b[0m\u001b[0mcoin\u001b[0m\u001b[1;33m,\u001b[0m \u001b[0maccount\u001b[0m\u001b[1;33m,\u001b[0m \u001b[0mrecipient\u001b[0m\u001b[1;33m,\u001b[0m \u001b[0mamount\u001b[0m\u001b[1;33m)\u001b[0m\u001b[1;33m\u001b[0m\u001b[1;33m\u001b[0m\u001b[0m\n\u001b[0m\u001b[0;32m      5\u001b[0m     \u001b[0msigned_tx\u001b[0m \u001b[1;33m=\u001b[0m \u001b[0maccount\u001b[0m\u001b[1;33m.\u001b[0m\u001b[0msign_transaction\u001b[0m\u001b[1;33m(\u001b[0m\u001b[0mraw_tx\u001b[0m\u001b[1;33m)\u001b[0m\u001b[1;33m\u001b[0m\u001b[1;33m\u001b[0m\u001b[0m\n\u001b[0;32m      6\u001b[0m \u001b[1;33m\u001b[0m\u001b[0m\n",
      "\u001b[1;32m<ipython-input-21-f3ea49c871a0>\u001b[0m in \u001b[0;36mcreate_tx\u001b[1;34m(coin, account, to, amount)\u001b[0m\n\u001b[0;32m     17\u001b[0m         }\n\u001b[0;32m     18\u001b[0m     \u001b[1;32melif\u001b[0m \u001b[0mcoin\u001b[0m \u001b[1;33m==\u001b[0m \u001b[0mBTCTEST\u001b[0m\u001b[1;33m:\u001b[0m\u001b[1;33m\u001b[0m\u001b[1;33m\u001b[0m\u001b[0m\n\u001b[1;32m---> 19\u001b[1;33m         \u001b[1;32mreturn\u001b[0m \u001b[0mPrivateKeyTestnet\u001b[0m\u001b[1;33m.\u001b[0m\u001b[0mprepare_transaction\u001b[0m\u001b[1;33m(\u001b[0m\u001b[0maccount\u001b[0m\u001b[1;33m.\u001b[0m\u001b[0maddress\u001b[0m\u001b[1;33m,\u001b[0m \u001b[1;33m[\u001b[0m\u001b[1;33m(\u001b[0m\u001b[0mto\u001b[0m\u001b[1;33m,\u001b[0m \u001b[0mamount\u001b[0m\u001b[1;33m,\u001b[0m \u001b[0mBTC\u001b[0m\u001b[1;33m)\u001b[0m\u001b[1;33m]\u001b[0m\u001b[1;33m)\u001b[0m\u001b[1;33m\u001b[0m\u001b[1;33m\u001b[0m\u001b[0m\n\u001b[0m",
      "\u001b[1;32m~\\anaconda3\\lib\\site-packages\\bit\\wallet.py\u001b[0m in \u001b[0;36mprepare_transaction\u001b[1;34m(cls, address, outputs, compressed, fee, absolute_fee, leftover, combine, message, unspents, message_is_hex, replace_by_fee)\u001b[0m\n\u001b[0;32m    840\u001b[0m         \u001b[1;33m:\u001b[0m\u001b[0mrtype\u001b[0m\u001b[1;33m:\u001b[0m\u001b[0;31m \u001b[0m\u001b[0;31m`\u001b[0m\u001b[0;31m`\u001b[0m\u001b[0mstr\u001b[0m\u001b[0;31m`\u001b[0m\u001b[0;31m`\u001b[0m\u001b[1;33m\u001b[0m\u001b[1;33m\u001b[0m\u001b[0m\n\u001b[0;32m    841\u001b[0m         \"\"\"\n\u001b[1;32m--> 842\u001b[1;33m         unspents, outputs = sanitize_tx_data(\n\u001b[0m\u001b[0;32m    843\u001b[0m             \u001b[0munspents\u001b[0m \u001b[1;32mor\u001b[0m \u001b[0mNetworkAPI\u001b[0m\u001b[1;33m.\u001b[0m\u001b[0mget_unspent_testnet\u001b[0m\u001b[1;33m(\u001b[0m\u001b[0maddress\u001b[0m\u001b[1;33m)\u001b[0m\u001b[1;33m,\u001b[0m\u001b[1;33m\u001b[0m\u001b[1;33m\u001b[0m\u001b[0m\n\u001b[0;32m    844\u001b[0m             \u001b[0moutputs\u001b[0m\u001b[1;33m,\u001b[0m\u001b[1;33m\u001b[0m\u001b[1;33m\u001b[0m\u001b[0m\n",
      "\u001b[1;32m~\\anaconda3\\lib\\site-packages\\bit\\transaction.py\u001b[0m in \u001b[0;36msanitize_tx_data\u001b[1;34m(unspents, outputs, fee, leftover, combine, message, compressed, absolute_fee, min_change, version, message_is_hex, replace_by_fee)\u001b[0m\n\u001b[0;32m    425\u001b[0m \u001b[1;33m\u001b[0m\u001b[0m\n\u001b[0;32m    426\u001b[0m     \u001b[1;31m# Use Branch-and-Bound for coin selection:\u001b[0m\u001b[1;33m\u001b[0m\u001b[1;33m\u001b[0m\u001b[1;33m\u001b[0m\u001b[0m\n\u001b[1;32m--> 427\u001b[1;33m     unspents[:], remaining = select_coins(\n\u001b[0m\u001b[0;32m    428\u001b[0m         \u001b[0msum_outputs\u001b[0m\u001b[1;33m,\u001b[0m\u001b[1;33m\u001b[0m\u001b[1;33m\u001b[0m\u001b[0m\n\u001b[0;32m    429\u001b[0m         \u001b[0mfee\u001b[0m\u001b[1;33m,\u001b[0m\u001b[1;33m\u001b[0m\u001b[1;33m\u001b[0m\u001b[0m\n",
      "\u001b[1;32m~\\anaconda3\\lib\\site-packages\\bit\\transaction.py\u001b[0m in \u001b[0;36mselect_coins\u001b[1;34m(target, fee, output_size, min_change, absolute_fee, consolidate, unspents)\u001b[0m\n\u001b[0;32m    324\u001b[0m                 \u001b[1;32mbreak\u001b[0m\u001b[1;33m\u001b[0m\u001b[1;33m\u001b[0m\u001b[0m\n\u001b[0;32m    325\u001b[0m         \u001b[1;32melse\u001b[0m\u001b[1;33m:\u001b[0m\u001b[1;33m\u001b[0m\u001b[1;33m\u001b[0m\u001b[0m\n\u001b[1;32m--> 326\u001b[1;33m             raise InsufficientFunds(\n\u001b[0m\u001b[0;32m    327\u001b[0m                 \u001b[1;34m'Balance {} is less than {} (including '\u001b[0m\u001b[1;33m\u001b[0m\u001b[1;33m\u001b[0m\u001b[0m\n\u001b[0;32m    328\u001b[0m                 \u001b[1;34m'fee).'\u001b[0m\u001b[1;33m.\u001b[0m\u001b[0mformat\u001b[0m\u001b[1;33m(\u001b[0m\u001b[0msum\u001b[0m\u001b[1;33m(\u001b[0m\u001b[0mu\u001b[0m\u001b[1;33m.\u001b[0m\u001b[0mamount\u001b[0m \u001b[1;32mfor\u001b[0m \u001b[0mu\u001b[0m \u001b[1;32min\u001b[0m \u001b[0mselected_coins\u001b[0m\u001b[1;33m)\u001b[0m\u001b[1;33m,\u001b[0m \u001b[0mtarget\u001b[0m \u001b[1;33m+\u001b[0m \u001b[0mmin_change\u001b[0m \u001b[1;33m+\u001b[0m \u001b[0mestimated_fee\u001b[0m\u001b[1;33m)\u001b[0m\u001b[1;33m\u001b[0m\u001b[1;33m\u001b[0m\u001b[0m\n",
      "\u001b[1;31mInsufficientFunds\u001b[0m: Balance 31100 is less than 183436 (including fee)."
     ]
    }
   ],
   "source": [
    "# sending BTCTEST transaction\n",
    "send_tx(BTCTEST,btctest_account,btctest_address,0.001)"
   ]
  },
  {
   "cell_type": "code",
   "execution_count": null,
   "metadata": {},
   "outputs": [],
   "source": []
  }
 ],
 "metadata": {
  "kernelspec": {
   "display_name": "Python 3",
   "language": "python",
   "name": "python3"
  },
  "language_info": {
   "codemirror_mode": {
    "name": "ipython",
    "version": 3
   },
   "file_extension": ".py",
   "mimetype": "text/x-python",
   "name": "python",
   "nbconvert_exporter": "python",
   "pygments_lexer": "ipython3",
   "version": "3.8.5"
  }
 },
 "nbformat": 4,
 "nbformat_minor": 4
}
